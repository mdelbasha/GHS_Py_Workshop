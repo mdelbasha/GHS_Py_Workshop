{
 "cells": [
  {
   "cell_type": "markdown",
   "metadata": {},
   "source": [
    "# Part 1 - Hello Python :)\n",
    "\n",
    "## What is Python?\n",
    "\n",
    "![Python logo](./logo.png)"
   ]
  },
  {
   "cell_type": "markdown",
   "metadata": {},
   "source": [
    "### Python is an *interpreted*, *object oriented*, *high-level* programming language. \n",
    "\n",
    "* Interpreted - code is run without building\n",
    "* Object oriented - code is structured into classes and data\n",
    "* High-Level - code resembles human language more than computer language"
   ]
  },
  {
   "cell_type": "markdown",
   "metadata": {},
   "source": [
    "![Python_Benefits](./benefits.jpg)"
   ]
  },
  {
   "cell_type": "markdown",
   "metadata": {},
   "source": [
    "### Benefits\n",
    "\n",
    "* Open source\n",
    "* Third Party Modules\n",
    "* Extensive Support for Libraries\n",
    "* User friendly data structures\n",
    "* Compatability\n",
    "* Productivity and speed\n",
    "\n",
    "### Applications\n",
    "\n",
    "* Image Processing\n",
    "* Graphic Design Applications\n",
    "* Web Frameworks and Applications\n",
    "* Machine learning\n",
    "* Business Applications\n",
    "* Etc."
   ]
  },
  {
   "cell_type": "markdown",
   "metadata": {},
   "source": [
    "![Python Time](./pytime.png)"
   ]
  },
  {
   "cell_type": "markdown",
   "metadata": {},
   "source": [
    "## Variables in Python\n",
    "\n",
    "```python \n",
    "x = 123                    # integer\n",
    "x = 123L                   # long integer\n",
    "x = 3.14                   # double float\n",
    "x = \"hello\"                # string\n",
    "x = [0,1,2]                # list\n",
    "x = (0,1,2)                # tuple\n",
    "x = open(‘hello.py’, ‘r’)  # file\n",
    "```"
   ]
  },
  {
   "cell_type": "markdown",
   "metadata": {},
   "source": [
    "## Conditional Statements\n",
    "\n",
    "**General Idea:** You ask a true or false question. If its *True* then you do this. If its *False* then you do that.\n",
    "\n",
    "![Conditional_Statement](./conditional.png)\n",
    "\n",
    "\n",
    "### Examples of Expressions\n",
    "\n",
    "**NOTE:** Your code will only execute if your statement *evaluates* to **True**. This means the statement you are writing is false, but the code will only work if it reads true.\n",
    "\n",
    "```python\n",
    "# Say you want something to be true\n",
    "haveIceCream = True\n",
    "if (haveIceCream):\n",
    "    print('I have ice cream')\n",
    "\n",
    "# Say something you want something to be false\n",
    "haveIceCream = False\n",
    "if not (haveIceCream):\n",
    "    print('I do not have ice cream')\n",
    "\n",
    "# Math Example\n",
    "if (10 > 20):\n",
    "    print('Ten is greater than twenty')\n",
    "\n",
    "if (10 < 20):\n",
    "    print('Ten is less than twenty')\n",
    "    \n",
    "# Better written Math Example\n",
    "if (10 > 20):\n",
    "    print('Ten is greater than twenty')\n",
    "elif (10 < 20):\n",
    "    print('Ten is less than twenty')\n",
    "\n",
    "# What if you don't know but still need to do something\n",
    "myGrade = 78\n",
    "if (myGrade > 90):\n",
    "    print('I got an A')\n",
    "elif (myGrade > 80):\n",
    "    print('I got a B')\n",
    "else:\n",
    "    print('It is okay. I passed')\n",
    "```"
   ]
  },
  {
   "cell_type": "markdown",
   "metadata": {},
   "source": [
    "## Loops\n",
    "\n",
    "**General Idea:** Do something over and over again, either for a fixed number of times or infinite number of times.\n",
    "\n",
    "![Loop_Exp](./while.png)\n",
    "\n",
    "### Examples for Loops\n",
    "\n",
    "**NOTE:** Your code will only execute if your statement *evaluates* to **True**. This means the statement you are writing is false, but the code will only work if it reads true.\n",
    "\n",
    "```python\n",
    "# Run a loop WHILE something is true\n",
    "count = 0\n",
    "while count < 5:\n",
    "    print(count)\n",
    "    count += 1  # This is the same as count = count + 1\n",
    "    \n",
    "# Run a loop FOR a given number of times\n",
    "\n",
    "# Prints out the numbers 0,1,2,3,4\n",
    "for x in range(5):\n",
    "    print(x)\n",
    "\n",
    "# Prints out 3,4,5\n",
    "for x in range(3, 6):\n",
    "    print(x)\n",
    "\n",
    "# Prints out 3,5,7\n",
    "for x in range(3, 8, 2):\n",
    "    print(x)\n",
    "\n",
    "# Prints out values for the length of the array\n",
    "primes = [2, 3, 5, 7]\n",
    "for prime in primes:\n",
    "    print(prime)\n",
    "\n",
    "# Prints out 0,1,2,3,4\n",
    "count = 0\n",
    "while True:\n",
    "    print(count)\n",
    "    count += 1\n",
    "    if count >= 5:\n",
    "        break\n",
    "\n",
    "# Prints out only odd numbers - 1,3,5,7,9\n",
    "for x in range(10):\n",
    "    # Check if x is even\n",
    "    if x % 2 == 0:\n",
    "        continue\n",
    "    print(x)\n",
    "```"
   ]
  },
  {
   "cell_type": "markdown",
   "metadata": {},
   "source": [
    "## Arrays\n",
    "\n",
    "![Array_Exp](./arrays.jpg)"
   ]
  },
  {
   "cell_type": "code",
   "execution_count": null,
   "metadata": {},
   "outputs": [],
   "source": [
    "# Import necessary library(s)\n",
    "import numpy as np"
   ]
  },
  {
   "cell_type": "code",
   "execution_count": null,
   "metadata": {},
   "outputs": [],
   "source": [
    "# Make an array\n",
    "x = np.array([1, 2, 3, 4, 5, 6])"
   ]
  },
  {
   "cell_type": "code",
   "execution_count": null,
   "metadata": {},
   "outputs": [],
   "source": [
    "# Visualize the array\n",
    "x"
   ]
  },
  {
   "cell_type": "code",
   "execution_count": null,
   "metadata": {},
   "outputs": [],
   "source": [
    "# Another way to visualize\n",
    "print(x)"
   ]
  },
  {
   "cell_type": "code",
   "execution_count": null,
   "metadata": {},
   "outputs": [],
   "source": [
    "# Get the dimensions of your array\n",
    "\n",
    "print(len(x))  # Prints out the length of a vector\n",
    "print(x.shape)  # Prints how many dimensions you have and how many elements are in that dimension\n",
    "print(x.shape[0])  # Prints elements of specified dimension"
   ]
  },
  {
   "cell_type": "code",
   "execution_count": null,
   "metadata": {},
   "outputs": [],
   "source": [
    "# Get the data type of an array\n",
    "print(type(x))"
   ]
  },
  {
   "cell_type": "code",
   "execution_count": null,
   "metadata": {},
   "outputs": [],
   "source": [
    "# Index your array (i.e. get its value from a certain location)\n",
    "print(x[0])\n",
    "print(x[4])\n",
    "print(x[-1])  # Negative numbers mean you are reading the array from right to left"
   ]
  },
  {
   "cell_type": "code",
   "execution_count": null,
   "metadata": {},
   "outputs": [],
   "source": [
    "# Change the shape of my array\n",
    "x.shape = (2,3)  \n",
    "print(x)"
   ]
  },
  {
   "cell_type": "code",
   "execution_count": null,
   "metadata": {},
   "outputs": [],
   "source": [
    "# Index your multi-dimensional array\n",
    "print(x[1])\n",
    "print(x[0][1])\n",
    "print(x[0][0:3])\n",
    "print(x[0][:])\n",
    "print(x[1,1])"
   ]
  },
  {
   "cell_type": "code",
   "execution_count": null,
   "metadata": {},
   "outputs": [],
   "source": [
    "# Faster way of making arrays\n",
    "\n",
    "y = np.arange(35)  # Makes an array of length 35\n",
    "z = np.arange(35).reshape(5,7)\n",
    "\n",
    "print(y)\n",
    "print(z)\n",
    "print(z[1:3,1:3])"
   ]
  },
  {
   "cell_type": "markdown",
   "metadata": {},
   "source": [
    "# Part 2 - Picture That \n",
    "\n",
    "## What is an image?\n",
    "\n",
    "![RGB](./RGB_channels.png)\n",
    "\n",
    "An image is nothing more than an array (matrix) that contains integer values. These values range from 0 to 255. You generally have two types of images: binary and color.\n",
    "\n",
    "A binary image is only two dimensional: x and y values. A color image has three dimensions: x, y and z values. For the color images the z dimension has only three values... Ever heard of an RGB image? That means you have three Z values of red, green and blue. We call these red, green and blue values channels.\n",
    "\n",
    "## What does that mean?\n",
    "\n",
    "![RGB_Cube](./RGB_cube.jpg)\n",
    "\n",
    "You have essentially a computerized rubix cub. The dimensions of this cube are ALWAYS: X by Y by 3. Each little index of this cube is called a pixel. A pixel is the basic unit of programmable color on a computer display or in a computer image. "
   ]
  },
  {
   "cell_type": "markdown",
   "metadata": {},
   "source": [
    "## How do we visualize images in python?"
   ]
  },
  {
   "cell_type": "code",
   "execution_count": null,
   "metadata": {},
   "outputs": [],
   "source": [
    "from google.colab import drive\n",
    "drive.mount('/content/gdrive')"
   ]
  },
  {
   "cell_type": "code",
   "execution_count": null,
   "metadata": {},
   "outputs": [],
   "source": [
    "# First import the required library(s)\n",
    "import matplotlib.pyplot as plt"
   ]
  },
  {
   "cell_type": "code",
   "execution_count": null,
   "metadata": {},
   "outputs": [],
   "source": [
    "# Read Image \n",
    "img = plt.imread('/content/gdrive/My Drive/Coding Activities Source Code/cat.jpg') \n",
    "  \n",
    "# Output Image \n",
    "plt.imshow(img) "
   ]
  },
  {
   "cell_type": "code",
   "execution_count": null,
   "metadata": {},
   "outputs": [],
   "source": [
    "# If you want to remove grid marks and numbers\n",
    "plt.grid(True)\n",
    "plt.xticks([])\n",
    "plt.yticks([])\n",
    "plt.imshow(img) "
   ]
  },
  {
   "cell_type": "code",
   "execution_count": null,
   "metadata": {},
   "outputs": [],
   "source": [
    "# Now lets decompose the cat image into its Red, Green and Blue channels\n",
    "\n",
    "# This we can do by indexing like we have done before\n",
    "chanR = img[:,:,0]\n",
    "chanG = img[:,:,1]\n",
    "chanB = img[:,:,2]\n",
    "\n",
    "# Now using our knowledge of how to plot we will plot all of the channels\n",
    "# one after another\n",
    "plt.figure(1)\n",
    "plt.grid(True)\n",
    "plt.xticks([])\n",
    "plt.yticks([])\n",
    "plt.imshow(chanR)\n",
    "\n",
    "plt.figure(2)\n",
    "plt.grid(True)\n",
    "plt.xticks([])\n",
    "plt.yticks([])\n",
    "plt.imshow(chanG)\n",
    "\n",
    "plt.figure(3)\n",
    "plt.grid(True)\n",
    "plt.xticks([])\n",
    "plt.yticks([])\n",
    "plt.imshow(chanB)"
   ]
  },
  {
   "cell_type": "code",
   "execution_count": null,
   "metadata": {},
   "outputs": [],
   "source": [
    "# By now you have noticed that you only got the intensity values of each channel\n",
    "# to get the colors with matplotlib we need to specify the color map to use\n",
    "plt.figure(1)\n",
    "plt.grid(True)\n",
    "plt.xticks([])\n",
    "plt.yticks([])\n",
    "plt.imshow(chanR, cmap='Reds')\n",
    "\n",
    "plt.figure(2)\n",
    "plt.grid(True)\n",
    "plt.xticks([])\n",
    "plt.yticks([])\n",
    "plt.imshow(chanG, cmap='Greens')\n",
    "\n",
    "plt.figure(3)\n",
    "plt.grid(True)\n",
    "plt.xticks([])\n",
    "plt.yticks([])\n",
    "plt.imshow(chanB, cmap='Blues')\n",
    "\n",
    "# Yes, you can chose from a variety of color maps; however, these are standard"
   ]
  },
  {
   "cell_type": "code",
   "execution_count": null,
   "metadata": {},
   "outputs": [],
   "source": [
    "# Lets be more efficient with how we view our images using subplots\n",
    "# Syntax for subplot is (numRows, numCols, Index)\n",
    "\n",
    "plt.subplot(221)\n",
    "plt.grid(True)\n",
    "plt.xticks([])\n",
    "plt.yticks([])\n",
    "\n",
    "plt.imshow(chanR, cmap='Reds')\n",
    "plt.subplot(222)\n",
    "\n",
    "plt.grid(True)\n",
    "plt.xticks([])\n",
    "plt.yticks([])\n",
    "\n",
    "plt.imshow(chanG, cmap='Greens')\n",
    "plt.subplot(223)\n",
    "plt.grid(True)\n",
    "plt.xticks([])\n",
    "plt.yticks([])\n",
    "\n",
    "plt.imshow(chanB, cmap='Blues')\n",
    "plt.subplot(224)\n",
    "plt.grid(True)\n",
    "plt.xticks([])\n",
    "plt.yticks([])\n",
    "plt.imshow(img)"
   ]
  },
  {
   "cell_type": "markdown",
   "metadata": {},
   "source": [
    "## Filtering"
   ]
  },
  {
   "cell_type": "code",
   "execution_count": null,
   "metadata": {},
   "outputs": [],
   "source": [
    "##### Demo Portion #####\n",
    "import scipy\n",
    "from scipy import ndimage\n",
    "import matplotlib.pyplot as plt\n",
    "\n",
    "f = scipy.misc.face(gray=True).astype(float)\n",
    "blurred_f = ndimage.gaussian_filter(f, 3)\n",
    "\n",
    "filter_blurred_f = ndimage.gaussian_filter(blurred_f, 1)\n",
    "\n",
    "alpha = 30\n",
    "sharpened = blurred_f + alpha * (blurred_f - filter_blurred_f)\n",
    "\n",
    "plt.figure(figsize=(12, 4))\n",
    "\n",
    "plt.subplot(131)\n",
    "plt.imshow(f, cmap=plt.cm.gray)\n",
    "plt.axis('off')\n",
    "plt.subplot(132)\n",
    "plt.imshow(blurred_f, cmap=plt.cm.gray)\n",
    "plt.axis('off')\n",
    "plt.subplot(133)\n",
    "plt.imshow(sharpened, cmap=plt.cm.gray)\n",
    "plt.axis('off')\n",
    "\n",
    "plt.tight_layout()\n",
    "plt.show()\n"
   ]
  },
  {
   "cell_type": "markdown",
   "metadata": {},
   "source": [
    "### Activity : Sharpen an Image of your own choice"
   ]
  },
  {
   "cell_type": "code",
   "execution_count": null,
   "metadata": {},
   "outputs": [],
   "source": [
    "import math\n",
    "import numpy as np\n",
    "\n",
    "# Read Image \n",
    "img = plt.imread('/content/gdrive/My Drive/Coding Activities Source Code/oba.jpg').astype(float) \n",
    "\n",
    "# Output Image\n",
    "plt.grid(True)\n",
    "plt.xticks([])\n",
    "plt.yticks([])\n",
    "plt.imshow(img.astype(int))"
   ]
  },
  {
   "cell_type": "code",
   "execution_count": null,
   "metadata": {},
   "outputs": [],
   "source": [
    "# Create the sharpening filter\n",
    "kSize = 3  # Kernel size\n",
    "h = np.ones(kSize)/(kSize**2)  # Create a normalized matrix, ** is used for exponents\n",
    "sharp = np.zeros((kSize,kSize))\n",
    "loc = math.floor(kSize/2)-1\n",
    "if not (kSize % 2 == 0):\n",
    "  loc = loc + 1\n",
    "sharp[loc][loc] = 2\n",
    "\n",
    "shFil = sharp-h\n",
    "shFil = shFil[:,:,None]"
   ]
  },
  {
   "cell_type": "code",
   "execution_count": null,
   "metadata": {},
   "outputs": [],
   "source": [
    "# Apply sharpening Filter\n",
    "from scipy import ndimage\n",
    "\n",
    "sharpFil = ndimage.convolve(img, shFil, mode='nearest')\n",
    "sharpFil = sharpFil.squeeze()"
   ]
  },
  {
   "cell_type": "code",
   "execution_count": null,
   "metadata": {},
   "outputs": [],
   "source": [
    "# Plot the image results\n",
    "plt.figure()\n",
    "plt.subplot(121)\n",
    "plt.grid(True)\n",
    "plt.xticks([])\n",
    "plt.yticks([])\n",
    "plt.title('Original Image')\n",
    "plt.imshow(img.astype(int))\n",
    "plt.subplot(122)\n",
    "plt.grid(True)\n",
    "plt.xticks([])\n",
    "plt.yticks([])\n",
    "plt.title('Sharp Image')\n",
    "plt.imshow(sharpFil.astype(int))"
   ]
  },
  {
   "cell_type": "markdown",
   "metadata": {},
   "source": [
    "# Part 3 - Can you hear me now?"
   ]
  },
  {
   "cell_type": "code",
   "execution_count": null,
   "metadata": {},
   "outputs": [],
   "source": [
    "# Needed imports\n",
    "import numpy as np\n",
    "from IPython.display import Audio\n",
    "from scipy.io import wavfile"
   ]
  },
  {
   "cell_type": "code",
   "execution_count": null,
   "metadata": {},
   "outputs": [],
   "source": [
    "# Create a sound\n",
    "framerate = 44100\n",
    "t = np.arange(0, 5, 1/(framerate))\n",
    "data = np.sin(2*np.pi*220*t) + np.sin(2*np.pi*224*t)"
   ]
  },
  {
   "cell_type": "code",
   "execution_count": null,
   "metadata": {},
   "outputs": [],
   "source": [
    "# Generate a player for mono sound\n",
    "Audio(data,rate=framerate)"
   ]
  },
  {
   "cell_type": "markdown",
   "metadata": {},
   "source": [
    "### Activity - Play \"Mary had a little lamb\""
   ]
  },
  {
   "cell_type": "code",
   "execution_count": null,
   "metadata": {},
   "outputs": [],
   "source": [
    "def key2note(X , keynum, dur):\n",
    "  fs = 8000;  # Sampling frequency\n",
    "  timeVec = np.arange(0, dur, 1/fs)\n",
    "  freq = 440 * 2**((keynum-49)/12)\n",
    "  xx = np.real( X * np.exp( (2j*np.pi*freq*timeVec)) )\n",
    "  return xx"
   ]
  },
  {
   "cell_type": "code",
   "execution_count": null,
   "metadata": {},
   "outputs": [],
   "source": [
    "keys = np.array([44, 42, 40, 42, 44, 44, 44, 42, 42, 42, 44, 47, 47])\n",
    "durations = 0.25 * np.ones((1, len(keys)))\n",
    "fs = 8000\n",
    "xx = np.zeros((1, int(np.sum(durations)*fs)))\n",
    "n1 = 0\n",
    "for kk in range(0, len(keys)):\n",
    "  keynum = keys[kk]\n",
    "  tone = key2note(0.5, keynum, durations[0][kk])\n",
    "  n2 = n1 + len(tone)\n",
    "  xx[0][n1:n2] = xx[0][n1:n2] + tone\n",
    "  n1 = n2\n",
    "\n",
    "xx = xx/max(abs(xx))  # normalize the output to avoid clipping\n",
    "Audio(xx, rate=fs)"
   ]
  },
  {
   "cell_type": "markdown",
   "metadata": {},
   "source": [
    "# Resources\n",
    "\n",
    "## Part 1\n",
    "\n",
    "https://searchmicroservices.techtarget.com/definition/object-oriented-programming-OOP (simple enough to tell the kids)\n",
    "\n",
    "https://www.invensis.net/blog/it/benefits-of-python-over-other-programming-languages/ (Python benefits)\n",
    "\n",
    "http://www.multisoftsystems.com/blog/benefits-of-python-and-why-it-is-being-used-in-the-industry/ (python benefits image source)\n",
    "\n",
    "https://www.quora.com/What-is-the-difference-between-Python-modules-packages-libraries-and-frameworks (difference between python library and module)\n",
    "\n",
    "https://www.learntek.org/blog/python-time/ (Python Time Image)\n",
    "\n",
    "https://www.pythonforbeginners.com/basics/python-variables (python variables)\n",
    "\n",
    "https://realpython.com/python-conditional-statements/ (python conditionals)\n",
    "\n",
    "https://stackoverflow.com/questions/17079279/how-is-axis-indexed-in-numpys-array (array image)\n",
    "\n",
    "## Part 2\n",
    "\n",
    "https://whatis.techtarget.com/definition/pixel\n",
    "\n",
    "https://stackoverflow.com/questions/39885178/how-can-i-see-the-rgb-channels-of-a-given-image-with-python\n",
    "\n",
    "https://docs.scipy.org/doc/numpy/user/basics.indexing.html\n",
    "\n",
    "https://matplotlib.org/api/_as_gen/matplotlib.pyplot.xticks.html\n",
    "\n",
    "## Part 3\n",
    "\n",
    "https://pythonbasics.org/python-play-sound/  (not as usefule)\n",
    "\n",
    "https://www.programcreek.com/python/example/89506/pydub.AudioSegment.from_file (not as usefule)\n",
    "\n",
    "https://colab.research.google.com/drive/1--xY78_ZTFwpI7F2ZfaeyFKiAOG2nkwd  (useful)\n",
    "\n",
    "https://colab.research.google.com/drive/1--xY78_ZTFwpI7F2ZfaeyFKiAOG2nkwd#scrollTo=fE5F6pyWvvae\n",
    "\n"
   ]
  },
  {
   "cell_type": "code",
   "execution_count": null,
   "metadata": {},
   "outputs": [],
   "source": []
  }
 ],
 "metadata": {
  "kernelspec": {
   "display_name": "Python 3",
   "language": "python",
   "name": "python3"
  },
  "language_info": {
   "codemirror_mode": {
    "name": "ipython",
    "version": 3
   },
   "file_extension": ".py",
   "mimetype": "text/x-python",
   "name": "python",
   "nbconvert_exporter": "python",
   "pygments_lexer": "ipython3",
   "version": "3.6.8"
  }
 },
 "nbformat": 4,
 "nbformat_minor": 2
}
